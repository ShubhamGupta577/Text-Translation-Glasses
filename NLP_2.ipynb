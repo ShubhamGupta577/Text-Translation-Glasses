{
  "nbformat": 4,
  "nbformat_minor": 0,
  "metadata": {
    "colab": {
      "name": "NLP-2.ipynb",
      "provenance": [],
      "include_colab_link": true
    },
    "kernelspec": {
      "name": "python3",
      "display_name": "Python 3"
    }
  },
  "cells": [
    {
      "cell_type": "markdown",
      "metadata": {
        "id": "view-in-github",
        "colab_type": "text"
      },
      "source": [
        "<a href=\"https://colab.research.google.com/github/encodeArnab/Text-Translation-Glasses/blob/main/NLP_2.ipynb\" target=\"_parent\"><img src=\"https://colab.research.google.com/assets/colab-badge.svg\" alt=\"Open In Colab\"/></a>"
      ]
    },
    {
      "cell_type": "code",
      "metadata": {
        "colab": {
          "base_uri": "https://localhost:8080/"
        },
        "id": "bJ8VASyNA1X5",
        "outputId": "af7f3c2c-4eb9-42ae-dc34-01031fcdfbee"
      },
      "source": [
        "!pip install h5py pyyaml"
      ],
      "execution_count": 39,
      "outputs": [
        {
          "output_type": "stream",
          "text": [
            "Requirement already satisfied: h5py in /usr/local/lib/python3.6/dist-packages (2.10.0)\n",
            "Requirement already satisfied: pyyaml in /usr/local/lib/python3.6/dist-packages (3.13)\n",
            "Requirement already satisfied: six in /usr/local/lib/python3.6/dist-packages (from h5py) (1.15.0)\n",
            "Requirement already satisfied: numpy>=1.7 in /usr/local/lib/python3.6/dist-packages (from h5py) (1.19.5)\n"
          ],
          "name": "stdout"
        }
      ]
    },
    {
      "cell_type": "code",
      "metadata": {
        "id": "KHcCn-3kIdJp"
      },
      "source": [
        "import string\n",
        "import re\n",
        "from numpy import array, argmax, random, take\n",
        "import pandas as pd\n",
        "from keras.models import Sequential\n",
        "from keras.layers import Dense, LSTM, Embedding, RepeatVector\n",
        "from keras.preprocessing.text import Tokenizer\n",
        "from keras.callbacks import ModelCheckpoint\n",
        "from keras.preprocessing.sequence import pad_sequences\n",
        "from keras.models import load_model\n",
        "from keras import optimizers\n",
        "import matplotlib.pyplot as plt\n",
        "import os\n",
        "import tensorflow as tf\n",
        "%matplotlib inline\n",
        "pd.set_option('display.max_colwidth', 200)"
      ],
      "execution_count": 58,
      "outputs": []
    },
    {
      "cell_type": "code",
      "metadata": {
        "id": "z13nQ0fUIkBV"
      },
      "source": [
        "# function to read raw text file\n",
        "def read_text(filename):\n",
        "        # open the file\n",
        "        file = open(\"deu.txt\", mode='rt', encoding='utf-8')\n",
        "        \n",
        "        # read all text\n",
        "        text = file.read()\n",
        "        file.close()\n",
        "        return text\n"
      ],
      "execution_count": 59,
      "outputs": []
    },
    {
      "cell_type": "code",
      "metadata": {
        "id": "AsrqettEIkWn"
      },
      "source": [
        "# split a text into sentences\n",
        "def to_lines(text):\n",
        "      sents = text.strip().split('\\n')\n",
        "      sents = [i.split('\\t') for i in sents]\n",
        "      return sents"
      ],
      "execution_count": 60,
      "outputs": []
    },
    {
      "cell_type": "code",
      "metadata": {
        "id": "4T1c8hkJIkg-",
        "colab": {
          "base_uri": "https://localhost:8080/"
        },
        "outputId": "0580aa46-c91c-46eb-af08-11998c2c94f7"
      },
      "source": [
        "data = read_text(\"deu.txt\")\n",
        "deu_eng = to_lines(data)\n",
        "deu_eng = array(deu_eng)\n",
        "deu_eng = deu_eng[:25000,:]\n",
        "deu_eng"
      ],
      "execution_count": 61,
      "outputs": [
        {
          "output_type": "execute_result",
          "data": {
            "text/plain": [
              "array([['Go.', 'Geh.',\n",
              "        'CC-BY 2.0 (France) Attribution: tatoeba.org #2877272 (CM) & #8597805 (Roujin)'],\n",
              "       ['Hi.', 'Hallo!',\n",
              "        'CC-BY 2.0 (France) Attribution: tatoeba.org #538123 (CM) & #380701 (cburgmer)'],\n",
              "       ['Hi.', 'Grüß Gott!',\n",
              "        'CC-BY 2.0 (France) Attribution: tatoeba.org #538123 (CM) & #659813 (Esperantostern)'],\n",
              "       ...,\n",
              "       ['Tom was motivated.', 'Tom war motiviert.',\n",
              "        'CC-BY 2.0 (France) Attribution: tatoeba.org #3415127 (CK) & #6625221 (Felixjp)'],\n",
              "       ['Tom was my friend.', 'Tom war mein Freund.',\n",
              "        'CC-BY 2.0 (France) Attribution: tatoeba.org #3165799 (Hybrid) & #3168521 (Pfirsichbaeumchen)'],\n",
              "       ['Tom was mystified.', 'Tom war verblüfft.',\n",
              "        'CC-BY 2.0 (France) Attribution: tatoeba.org #6039878 (Hybrid) & #3361288 (freddy1)']],\n",
              "      dtype='<U120')"
            ]
          },
          "metadata": {
            "tags": []
          },
          "execution_count": 61
        }
      ]
    },
    {
      "cell_type": "code",
      "metadata": {
        "id": "4GHDYnXzIktJ",
        "colab": {
          "base_uri": "https://localhost:8080/"
        },
        "outputId": "e82bf598-9cb7-49dd-e77d-80e274b186e2"
      },
      "source": [
        "# Remove punctuation\n",
        "deu_eng[:,0] = [s.translate(str.maketrans('', '', string.punctuation)) for s in deu_eng[:,0]]\n",
        "deu_eng[:,1] = [s.translate(str.maketrans('', '', string.punctuation)) for s in deu_eng[:,1]]\n",
        "\n",
        "deu_eng"
      ],
      "execution_count": 62,
      "outputs": [
        {
          "output_type": "execute_result",
          "data": {
            "text/plain": [
              "array([['Go', 'Geh',\n",
              "        'CC-BY 2.0 (France) Attribution: tatoeba.org #2877272 (CM) & #8597805 (Roujin)'],\n",
              "       ['Hi', 'Hallo',\n",
              "        'CC-BY 2.0 (France) Attribution: tatoeba.org #538123 (CM) & #380701 (cburgmer)'],\n",
              "       ['Hi', 'Grüß Gott',\n",
              "        'CC-BY 2.0 (France) Attribution: tatoeba.org #538123 (CM) & #659813 (Esperantostern)'],\n",
              "       ...,\n",
              "       ['Tom was motivated', 'Tom war motiviert',\n",
              "        'CC-BY 2.0 (France) Attribution: tatoeba.org #3415127 (CK) & #6625221 (Felixjp)'],\n",
              "       ['Tom was my friend', 'Tom war mein Freund',\n",
              "        'CC-BY 2.0 (France) Attribution: tatoeba.org #3165799 (Hybrid) & #3168521 (Pfirsichbaeumchen)'],\n",
              "       ['Tom was mystified', 'Tom war verblüfft',\n",
              "        'CC-BY 2.0 (France) Attribution: tatoeba.org #6039878 (Hybrid) & #3361288 (freddy1)']],\n",
              "      dtype='<U120')"
            ]
          },
          "metadata": {
            "tags": []
          },
          "execution_count": 62
        }
      ]
    },
    {
      "cell_type": "code",
      "metadata": {
        "colab": {
          "base_uri": "https://localhost:8080/"
        },
        "id": "_BLmGFdaI-B8",
        "outputId": "07854102-2b72-4db2-833b-f6f93e066708"
      },
      "source": [
        "# convert text to lowercase\n",
        "for i in range(len(deu_eng)):\n",
        "    deu_eng[i,0] = deu_eng[i,0].lower()\n",
        "    deu_eng[i,1] = deu_eng[i,1].lower()\n",
        "\n",
        "deu_eng"
      ],
      "execution_count": 63,
      "outputs": [
        {
          "output_type": "execute_result",
          "data": {
            "text/plain": [
              "array([['go', 'geh',\n",
              "        'CC-BY 2.0 (France) Attribution: tatoeba.org #2877272 (CM) & #8597805 (Roujin)'],\n",
              "       ['hi', 'hallo',\n",
              "        'CC-BY 2.0 (France) Attribution: tatoeba.org #538123 (CM) & #380701 (cburgmer)'],\n",
              "       ['hi', 'grüß gott',\n",
              "        'CC-BY 2.0 (France) Attribution: tatoeba.org #538123 (CM) & #659813 (Esperantostern)'],\n",
              "       ...,\n",
              "       ['tom was motivated', 'tom war motiviert',\n",
              "        'CC-BY 2.0 (France) Attribution: tatoeba.org #3415127 (CK) & #6625221 (Felixjp)'],\n",
              "       ['tom was my friend', 'tom war mein freund',\n",
              "        'CC-BY 2.0 (France) Attribution: tatoeba.org #3165799 (Hybrid) & #3168521 (Pfirsichbaeumchen)'],\n",
              "       ['tom was mystified', 'tom war verblüfft',\n",
              "        'CC-BY 2.0 (France) Attribution: tatoeba.org #6039878 (Hybrid) & #3361288 (freddy1)']],\n",
              "      dtype='<U120')"
            ]
          },
          "metadata": {
            "tags": []
          },
          "execution_count": 63
        }
      ]
    },
    {
      "cell_type": "code",
      "metadata": {
        "colab": {
          "base_uri": "https://localhost:8080/",
          "height": 281
        },
        "id": "-4E5oOYfI-J7",
        "outputId": "69d93f70-1791-42ff-ffec-c0e15cb7a55e"
      },
      "source": [
        "# empty lists\n",
        "eng_l = []\n",
        "deu_l = []\n",
        "\n",
        "# populate the lists with sentence lengths\n",
        "for i in deu_eng[:,0]:\n",
        "      eng_l.append(len(i.split()))\n",
        "\n",
        "for i in deu_eng[:,1]:\n",
        "      deu_l.append(len(i.split()))\n",
        "\n",
        "length_df = pd.DataFrame({'eng':eng_l, 'deu':deu_l})\n",
        "\n",
        "length_df.hist(bins = 30)\n",
        "plt.show()"
      ],
      "execution_count": 64,
      "outputs": [
        {
          "output_type": "display_data",
          "data": {
            "image/png": "[encoded data removed]",
            "text/plain": [
              "<Figure size 432x288 with 2 Axes>"
            ]
          },
          "metadata": {
            "tags": [],
            "needs_background": "light"
          }
        }
      ]
    },
    {
      "cell_type": "code",
      "metadata": {
        "id": "xPZ0CrHII-RV"
      },
      "source": [
        "# function to build a tokenizer\n",
        "def tokenization(lines):\n",
        "      tokenizer = Tokenizer()\n",
        "      tokenizer.fit_on_texts(lines)\n",
        "      return tokenizer"
      ],
      "execution_count": 65,
      "outputs": []
    },
    {
      "cell_type": "code",
      "metadata": {
        "colab": {
          "base_uri": "https://localhost:8080/"
        },
        "id": "Co465KWSI-X4",
        "outputId": "9340b7b5-1797-4ebe-9771-48e8c5a5d4e9"
      },
      "source": [
        "# prepare english tokenizer\n",
        "eng_tokenizer = tokenization(deu_eng[:, 0])\n",
        "eng_vocab_size = len(eng_tokenizer.word_index) + 1\n",
        "\n",
        "eng_length = 8\n",
        "print('English Vocabulary Size: %d' % eng_vocab_size)"
      ],
      "execution_count": 66,
      "outputs": [
        {
          "output_type": "stream",
          "text": [
            "English Vocabulary Size: 4268\n"
          ],
          "name": "stdout"
        }
      ]
    },
    {
      "cell_type": "code",
      "metadata": {
        "colab": {
          "base_uri": "https://localhost:8080/"
        },
        "id": "ZGWsZPCCJWd3",
        "outputId": "a6bf8d60-c70c-4290-96a5-d7ef49216ee9"
      },
      "source": [
        "# prepare Deutch tokenizer\n",
        "deu_tokenizer = tokenization(deu_eng[:, 1])\n",
        "deu_vocab_size = len(deu_tokenizer.word_index) + 1\n",
        "\n",
        "deu_length = 8\n",
        "print('Deutch Vocabulary Size: %d' % deu_vocab_size)"
      ],
      "execution_count": 67,
      "outputs": [
        {
          "output_type": "stream",
          "text": [
            "Deutch Vocabulary Size: 6696\n"
          ],
          "name": "stdout"
        }
      ]
    },
    {
      "cell_type": "code",
      "metadata": {
        "id": "0WRBWIXCJWht"
      },
      "source": [
        "# encode and pad sequences\n",
        "def encode_sequences(tokenizer, length, lines):\n",
        "         # integer encode sequences\n",
        "         seq = tokenizer.texts_to_sequences(lines)\n",
        "         # pad sequences with 0 values\n",
        "         seq = pad_sequences(seq, maxlen=length, padding='post')\n",
        "         return seq"
      ],
      "execution_count": 68,
      "outputs": []
    },
    {
      "cell_type": "code",
      "metadata": {
        "id": "_WLAJ9MZJWk8"
      },
      "source": [
        "from sklearn.model_selection import train_test_split\n",
        "\n",
        "# split data into train and test set\n",
        "train, test = train_test_split(deu_eng, test_size=0.2, random_state = 12)"
      ],
      "execution_count": 69,
      "outputs": []
    },
    {
      "cell_type": "code",
      "metadata": {
        "id": "nz4iFJvtJWnb"
      },
      "source": [
        "# prepare training data\n",
        "trainX = encode_sequences(deu_tokenizer, deu_length, train[:, 1])\n",
        "trainY = encode_sequences(eng_tokenizer, eng_length, train[:, 0])\n",
        "\n",
        "# prepare validation data\n",
        "testX = encode_sequences(deu_tokenizer, deu_length, test[:, 1])\n",
        "testY = encode_sequences(eng_tokenizer, eng_length, test[:, 0])"
      ],
      "execution_count": 70,
      "outputs": []
    },
    {
      "cell_type": "code",
      "metadata": {
        "id": "OVwxuyW1JWtz"
      },
      "source": [
        "# build NMT model\n",
        "def define_model(in_vocab,out_vocab, in_timesteps,out_timesteps,units):\n",
        "      model = Sequential()\n",
        "      model.add(Embedding(in_vocab, units, input_length=in_timesteps, mask_zero=True))\n",
        "      model.add(LSTM(units))\n",
        "      model.add(RepeatVector(out_timesteps))\n",
        "      model.add(LSTM(units, return_sequences=True))\n",
        "      model.add(Dense(out_vocab, activation='softmax'))\n",
        "      return model"
      ],
      "execution_count": 71,
      "outputs": []
    },
    {
      "cell_type": "code",
      "metadata": {
        "id": "rzvywkqCJgc_"
      },
      "source": [
        "# model compilation\n",
        "model = define_model(deu_vocab_size, eng_vocab_size, deu_length, eng_length, 512)\n",
        "rms = optimizers.RMSprop(lr=0.001)\n",
        "model.compile(optimizer=rms, loss='sparse_categorical_crossentropy')"
      ],
      "execution_count": 72,
      "outputs": []
    },
    {
      "cell_type": "code",
      "metadata": {
        "colab": {
          "base_uri": "https://localhost:8080/"
        },
        "id": "MiBLiCtgJggB",
        "outputId": "7deb7695-9dce-4d46-e72a-a92143a0286c"
      },
      "source": [
        "\n",
        "checkpoint_path = \"training_1/cp.cpkt\"\n",
        "checkpoint_dir = os.path.dirname(checkpoint_path)\n",
        "cp_callback = tf.keras.callbacks.ModelCheckpoint(checkpoint_path, save_weights_only=True,verbose=1)\n",
        "\n",
        "filename = 'model.h1.24_jan_19'\n",
        "checkpoint = ModelCheckpoint(filename, monitor='val_loss', verbose=1, save_best_only=True, mode='min')\n",
        "\n",
        "# train model\n",
        "history = model.fit(trainX, trainY.reshape(trainY.shape[0], trainY.shape[1], 1),\n",
        "                    epochs=30, batch_size=512, validation_split = 0.2,callbacks=[cp_callback], \n",
        "                    verbose=1)"
      ],
      "execution_count": 77,
      "outputs": [
        {
          "output_type": "stream",
          "text": [
            "Epoch 1/30\n",
            "32/32 [==============================] - 109s 3s/step - loss: 2.3412 - val_loss: 2.3863\n",
            "\n",
            "Epoch 00001: saving model to training_1/cp.cpkt\n",
            "Epoch 2/30\n",
            "32/32 [==============================] - 109s 3s/step - loss: 2.2439 - val_loss: 2.2404\n",
            "\n",
            "Epoch 00002: saving model to training_1/cp.cpkt\n",
            "Epoch 3/30\n",
            "32/32 [==============================] - 114s 4s/step - loss: 2.1198 - val_loss: 2.1628\n",
            "\n",
            "Epoch 00003: saving model to training_1/cp.cpkt\n",
            "Epoch 4/30\n",
            "32/32 [==============================] - 110s 3s/step - loss: 2.0104 - val_loss: 2.1031\n",
            "\n",
            "Epoch 00004: saving model to training_1/cp.cpkt\n",
            "Epoch 5/30\n",
            "32/32 [==============================] - 110s 3s/step - loss: 1.9246 - val_loss: 2.0653\n",
            "\n",
            "Epoch 00005: saving model to training_1/cp.cpkt\n",
            "Epoch 6/30\n",
            "32/32 [==============================] - 110s 3s/step - loss: 1.8519 - val_loss: 1.9883\n",
            "\n",
            "Epoch 00006: saving model to training_1/cp.cpkt\n",
            "Epoch 7/30\n",
            "32/32 [==============================] - 110s 3s/step - loss: 1.7809 - val_loss: 1.9422\n",
            "\n",
            "Epoch 00007: saving model to training_1/cp.cpkt\n",
            "Epoch 8/30\n",
            "32/32 [==============================] - 116s 4s/step - loss: 1.7145 - val_loss: 1.9065\n",
            "\n",
            "Epoch 00008: saving model to training_1/cp.cpkt\n",
            "Epoch 9/30\n",
            "32/32 [==============================] - 110s 3s/step - loss: 1.6446 - val_loss: 1.8916\n",
            "\n",
            "Epoch 00009: saving model to training_1/cp.cpkt\n",
            "Epoch 10/30\n",
            "32/32 [==============================] - 110s 3s/step - loss: 1.5809 - val_loss: 1.8530\n",
            "\n",
            "Epoch 00010: saving model to training_1/cp.cpkt\n",
            "Epoch 11/30\n",
            "32/32 [==============================] - 111s 3s/step - loss: 1.5200 - val_loss: 1.7885\n",
            "\n",
            "Epoch 00011: saving model to training_1/cp.cpkt\n",
            "Epoch 12/30\n",
            "32/32 [==============================] - 109s 3s/step - loss: 1.4579 - val_loss: 1.7494\n",
            "\n",
            "Epoch 00012: saving model to training_1/cp.cpkt\n",
            "Epoch 13/30\n",
            "32/32 [==============================] - 109s 3s/step - loss: 1.3966 - val_loss: 1.7350\n",
            "\n",
            "Epoch 00013: saving model to training_1/cp.cpkt\n",
            "Epoch 14/30\n",
            "32/32 [==============================] - 112s 4s/step - loss: 1.3429 - val_loss: 1.6861\n",
            "\n",
            "Epoch 00014: saving model to training_1/cp.cpkt\n",
            "Epoch 15/30\n",
            "32/32 [==============================] - 109s 3s/step - loss: 1.2827 - val_loss: 1.6711\n",
            "\n",
            "Epoch 00015: saving model to training_1/cp.cpkt\n",
            "Epoch 16/30\n",
            "32/32 [==============================] - 109s 3s/step - loss: 1.2301 - val_loss: 1.6440\n",
            "\n",
            "Epoch 00016: saving model to training_1/cp.cpkt\n",
            "Epoch 17/30\n",
            "32/32 [==============================] - 109s 3s/step - loss: 1.1762 - val_loss: 1.6058\n",
            "\n",
            "Epoch 00017: saving model to training_1/cp.cpkt\n",
            "Epoch 18/30\n",
            "32/32 [==============================] - 109s 3s/step - loss: 1.1276 - val_loss: 1.5879\n",
            "\n",
            "Epoch 00018: saving model to training_1/cp.cpkt\n",
            "Epoch 19/30\n",
            "32/32 [==============================] - 112s 3s/step - loss: 1.0769 - val_loss: 1.5677\n",
            "\n",
            "Epoch 00019: saving model to training_1/cp.cpkt\n",
            "Epoch 20/30\n",
            "32/32 [==============================] - 110s 3s/step - loss: 1.0292 - val_loss: 1.5441\n",
            "\n",
            "Epoch 00020: saving model to training_1/cp.cpkt\n",
            "Epoch 21/30\n",
            "32/32 [==============================] - 111s 3s/step - loss: 0.9790 - val_loss: 1.5574\n",
            "\n",
            "Epoch 00021: saving model to training_1/cp.cpkt\n",
            "Epoch 22/30\n",
            "32/32 [==============================] - 111s 3s/step - loss: 0.9357 - val_loss: 1.5094\n",
            "\n",
            "Epoch 00022: saving model to training_1/cp.cpkt\n",
            "Epoch 23/30\n",
            "32/32 [==============================] - 111s 3s/step - loss: 0.8942 - val_loss: 1.4944\n",
            "\n",
            "Epoch 00023: saving model to training_1/cp.cpkt\n",
            "Epoch 24/30\n",
            "32/32 [==============================] - 110s 3s/step - loss: 0.8489 - val_loss: 1.4726\n",
            "\n",
            "Epoch 00024: saving model to training_1/cp.cpkt\n",
            "Epoch 25/30\n",
            "32/32 [==============================] - 113s 4s/step - loss: 0.8078 - val_loss: 1.4593\n",
            "\n",
            "Epoch 00025: saving model to training_1/cp.cpkt\n",
            "Epoch 26/30\n",
            "32/32 [==============================] - 110s 3s/step - loss: 0.7656 - val_loss: 1.4543\n",
            "\n",
            "Epoch 00026: saving model to training_1/cp.cpkt\n",
            "Epoch 27/30\n",
            "32/32 [==============================] - 109s 3s/step - loss: 0.7281 - val_loss: 1.4303\n",
            "\n",
            "Epoch 00027: saving model to training_1/cp.cpkt\n",
            "Epoch 28/30\n",
            "32/32 [==============================] - 110s 3s/step - loss: 0.6871 - val_loss: 1.4275\n",
            "\n",
            "Epoch 00028: saving model to training_1/cp.cpkt\n",
            "Epoch 29/30\n",
            "32/32 [==============================] - 109s 3s/step - loss: 0.6537 - val_loss: 1.4048\n",
            "\n",
            "Epoch 00029: saving model to training_1/cp.cpkt\n",
            "Epoch 30/30\n",
            "32/32 [==============================] - 111s 3s/step - loss: 0.6175 - val_loss: 1.3904\n",
            "\n",
            "Epoch 00030: saving model to training_1/cp.cpkt\n"
          ],
          "name": "stdout"
        }
      ]
    },
    {
      "cell_type": "code",
      "metadata": {
        "colab": {
          "base_uri": "https://localhost:8080/",
          "height": 265
        },
        "id": "fbE2Bch2JgjB",
        "outputId": "fdd679c2-ac3f-4534-ac35-07a76916b31a"
      },
      "source": [
        "plt.plot(history.history['loss'])\n",
        "plt.plot(history.history['val_loss'])\n",
        "plt.legend(['train','validation'])\n",
        "plt.show()"
      ],
      "execution_count": 78,
      "outputs": [
        {
          "output_type": "display_data",
          "data": {
            "image/png": "[encoded data removed]",
            "text/plain": [
              "<Figure size 432x288 with 1 Axes>"
            ]
          },
          "metadata": {
            "tags": [],
            "needs_background": "light"
          }
        }
      ]
    },
    {
      "cell_type": "code",
      "metadata": {
        "id": "oZmHyjUrJgpR"
      },
      "source": [
        "def get_word(n, tokenizer):\n",
        "      for word, index in tokenizer.word_index.items():\n",
        "          if index == n:\n",
        "              return word\n",
        "      return None"
      ],
      "execution_count": 80,
      "outputs": []
    },
    {
      "cell_type": "code",
      "metadata": {
        "id": "DZ8dxv13JyC-"
      },
      "source": [
        "preds_text = []\n",
        "for i in preds:\n",
        "       temp = []\n",
        "       for j in range(len(i)):\n",
        "            t = get_word(i[j], eng_tokenizer)\n",
        "            if j > 0:\n",
        "                if (t == get_word(i[j-1], eng_tokenizer)) or (t == None):\n",
        "                     temp.append('')\n",
        "                else:\n",
        "                     temp.append(t)\n",
        "            else:\n",
        "                   if(t == None):\n",
        "                          temp.append('')\n",
        "                   else:\n",
        "                          temp.append(t) \n",
        "\n",
        "       preds_text.append(' '.join(temp))"
      ],
      "execution_count": 81,
      "outputs": []
    },
    {
      "cell_type": "code",
      "metadata": {
        "colab": {
          "base_uri": "https://localhost:8080/",
          "height": 514
        },
        "id": "5r755U7XJyF-",
        "outputId": "c89a8c25-b3af-454c-b89b-c42e0e091a86"
      },
      "source": [
        "pred_df = pd.DataFrame({'actual' : test[:,0], 'predicted' : preds_text})\n",
        "\n",
        "# print 15 rows randomly\n",
        "pred_df.sample(15)"
      ],
      "execution_count": 83,
      "outputs": [
        {
          "output_type": "execute_result",
          "data": {
            "text/html": [
              "<div>\n",
              "<style scoped>\n",
              "    .dataframe tbody tr th:only-of-type {\n",
              "        vertical-align: middle;\n",
              "    }\n",
              "\n",
              "    .dataframe tbody tr th {\n",
              "        vertical-align: top;\n",
              "    }\n",
              "\n",
              "    .dataframe thead th {\n",
              "        text-align: right;\n",
              "    }\n",
              "</style>\n",
              "<table border=\"1\" class=\"dataframe\">\n",
              "  <thead>\n",
              "    <tr style=\"text-align: right;\">\n",
              "      <th></th>\n",
              "      <th>actual</th>\n",
              "      <th>predicted</th>\n",
              "    </tr>\n",
              "  </thead>\n",
              "  <tbody>\n",
              "    <tr>\n",
              "      <th>2151</th>\n",
              "      <td>she betrayed you</td>\n",
              "      <td>they trusted you</td>\n",
              "    </tr>\n",
              "    <tr>\n",
              "      <th>2332</th>\n",
              "      <td>ive checked</td>\n",
              "      <td>i have plans</td>\n",
              "    </tr>\n",
              "    <tr>\n",
              "      <th>3006</th>\n",
              "      <td>tom is humiliated</td>\n",
              "      <td>tom was cremated</td>\n",
              "    </tr>\n",
              "    <tr>\n",
              "      <th>3373</th>\n",
              "      <td>are you working</td>\n",
              "      <td>do you them</td>\n",
              "    </tr>\n",
              "    <tr>\n",
              "      <th>1636</th>\n",
              "      <td>tom bent forward</td>\n",
              "      <td>tom graduated dinner</td>\n",
              "    </tr>\n",
              "    <tr>\n",
              "      <th>504</th>\n",
              "      <td>tom is tidy</td>\n",
              "      <td>toms is</td>\n",
              "    </tr>\n",
              "    <tr>\n",
              "      <th>3125</th>\n",
              "      <td>have you gone mad</td>\n",
              "      <td>are you crazy</td>\n",
              "    </tr>\n",
              "    <tr>\n",
              "      <th>1701</th>\n",
              "      <td>is he tom</td>\n",
              "      <td>is he arrived</td>\n",
              "    </tr>\n",
              "    <tr>\n",
              "      <th>1610</th>\n",
              "      <td>i like it hot</td>\n",
              "      <td>i like  here</td>\n",
              "    </tr>\n",
              "    <tr>\n",
              "      <th>4401</th>\n",
              "      <td>the food is ready</td>\n",
              "      <td>the foods</td>\n",
              "    </tr>\n",
              "    <tr>\n",
              "      <th>2982</th>\n",
              "      <td>toms out cold</td>\n",
              "      <td>toms is thirty</td>\n",
              "    </tr>\n",
              "    <tr>\n",
              "      <th>754</th>\n",
              "      <td>you can rest</td>\n",
              "      <td>you can rest</td>\n",
              "    </tr>\n",
              "    <tr>\n",
              "      <th>2606</th>\n",
              "      <td>were intrigued</td>\n",
              "      <td>were are</td>\n",
              "    </tr>\n",
              "    <tr>\n",
              "      <th>2019</th>\n",
              "      <td>youll be sorry</td>\n",
              "      <td>youll be</td>\n",
              "    </tr>\n",
              "    <tr>\n",
              "      <th>2378</th>\n",
              "      <td>tom slipped</td>\n",
              "      <td>tom kept</td>\n",
              "    </tr>\n",
              "  </tbody>\n",
              "</table>\n",
              "</div>"
            ],
            "text/plain": [
              "                 actual                  predicted\n",
              "2151   she betrayed you      they trusted you     \n",
              "2332        ive checked          i have plans     \n",
              "3006  tom is humiliated      tom was cremated     \n",
              "3373    are you working           do you them     \n",
              "1636   tom bent forward  tom graduated dinner     \n",
              "504         tom is tidy              toms is      \n",
              "3125  have you gone mad         are you crazy     \n",
              "1701          is he tom         is he arrived     \n",
              "1610      i like it hot           i like  here    \n",
              "4401  the food is ready            the foods      \n",
              "2982      toms out cold        toms is thirty     \n",
              "754        you can rest          you can rest     \n",
              "2606     were intrigued             were are      \n",
              "2019     youll be sorry             youll be      \n",
              "2378        tom slipped             tom kept      "
            ]
          },
          "metadata": {
            "tags": []
          },
          "execution_count": 83
        }
      ]
    },
    {
      "cell_type": "code",
      "metadata": {
        "id": "B55ZRVhWurdH",
        "outputId": "c36d2ddc-a797-40d0-868b-22b3724b7fd4",
        "colab": {
          "base_uri": "https://localhost:8080/"
        }
      },
      "source": [
        "model.evaluate(testX, testY, batch_size=512)"
      ],
      "execution_count": 88,
      "outputs": [
        {
          "output_type": "stream",
          "text": [
            "10/10 [==============================] - 11s 1s/step - loss: 1.3926\n"
          ],
          "name": "stdout"
        },
        {
          "output_type": "execute_result",
          "data": {
            "text/plain": [
              "1.3926031589508057"
            ]
          },
          "metadata": {
            "tags": []
          },
          "execution_count": 88
        }
      ]
    },
    {
      "cell_type": "code",
      "metadata": {
        "colab": {
          "base_uri": "https://localhost:8080/"
        },
        "id": "3_48ji3CfgM_",
        "outputId": "60cd73be-2542-448b-9b87-259f53b0c09d"
      },
      "source": [
        "model.evaluate(trainX, trainY, batch_size=512)"
      ],
      "execution_count": 84,
      "outputs": [
        {
          "output_type": "stream",
          "text": [
            "40/40 [==============================] - 47s 1s/step - loss: 0.7273\n"
          ],
          "name": "stdout"
        },
        {
          "output_type": "execute_result",
          "data": {
            "text/plain": [
              "0.7272845506668091"
            ]
          },
          "metadata": {
            "tags": []
          },
          "execution_count": 84
        }
      ]
    },
    {
      "cell_type": "code",
      "metadata": {
        "colab": {
          "base_uri": "https://localhost:8080/"
        },
        "id": "ubLIYboDgRhS",
        "outputId": "d2f18aa2-d026-4b7c-c8c4-4778d968537f"
      },
      "source": [
        "import time\n",
        "t = time.time()\n",
        "export_path_keras = \"./{}.h5\".format(int(t))\n",
        "print(export_path_keras)\n",
        "\n",
        "model.save(export_path_keras)\n"
      ],
      "execution_count": 87,
      "outputs": [
        {
          "output_type": "stream",
          "text": [
            "./1611494880.h5\n"
          ],
          "name": "stdout"
        }
      ]
    }
  ]
}