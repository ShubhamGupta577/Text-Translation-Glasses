{
  "nbformat": 4,
  "nbformat_minor": 0,
  "metadata": {
    "colab": {
      "name": "TTG-Final.ipynb",
      "provenance": []
    },
    "kernelspec": {
      "display_name": "Python 3",
      "name": "python3"
    }
  },
  "cells": [
    {
      "cell_type": "code",
      "metadata": {
        "id": "sFoMBKmO0Y2b"
      },
      "source": [
        "import tensorflow as tf\n",
        "\n",
        "import matplotlib.pyplot as plt\n",
        "import matplotlib.ticker as ticker\n",
        "from sklearn.model_selection import train_test_split\n",
        "\n",
        "import unicodedata\n",
        "import re\n",
        "import numpy as np\n",
        "import os\n",
        "import io\n",
        "import time"
      ],
      "execution_count": 5,
      "outputs": []
    },
    {
      "cell_type": "code",
      "metadata": {
        "colab": {
          "base_uri": "https://localhost:8080/"
        },
        "id": "P91Ty8QV0bZ_",
        "outputId": "4eac6a89-fb22-47a3-e221-12593698ccf9"
      },
      "source": [
        "# Download the file\n",
        "path_to_zip = tf.keras.utils.get_file(\n",
        "    'spa-eng.zip', origin='http://storage.googleapis.com/download.tensorflow.org/data/spa-eng.zip',\n",
        "    extract=True)\n",
        "\n",
        "path_to_file = os.path.dirname(path_to_zip)+\"/spa-eng/spa.txt\""
      ],
      "execution_count": 6,
      "outputs": [
        {
          "output_type": "stream",
          "text": [
            "Downloading data from http://storage.googleapis.com/download.tensorflow.org/data/spa-eng.zip\n",
            "2646016/2638744 [==============================] - 0s 0us/step\n"
          ],
          "name": "stdout"
        }
      ]
    },
    {
      "cell_type": "code",
      "metadata": {
        "id": "ZEJJajpD2RiD"
      },
      "source": [
        "# Converts the unicode file to ascii\n",
        "def unicode_to_ascii(s):\n",
        "  return ''.join(c for c in unicodedata.normalize('NFD', s)\n",
        "      if unicodedata.category(c) != 'Mn')\n",
        "\n",
        "\n",
        "def preprocess_sentence(w):\n",
        "  w = unicode_to_ascii(w.lower().strip())\n",
        "\n",
        "  # creating a space between a word and the punctuation following it\n",
        "  # eg: \"he is a boy.\" => \"he is a boy .\"\n",
        "  # Reference:- https://stackoverflow.com/questions/3645931/python-padding-punctuation-with-white-spaces-keeping-punctuation\n",
        "  w = re.sub(r\"([?.!,¿])\", r\" \\1 \", w)\n",
        "  w = re.sub(r'[\" \"]+', \" \", w)\n",
        "\n",
        "  # replacing everything with space except (a-z, A-Z, \".\", \"?\", \"!\", \",\")\n",
        "  w = re.sub(r\"[^a-zA-Z?.!,¿]+\", \" \", w)\n",
        "\n",
        "  w = w.strip()\n",
        "\n",
        "  # adding a start and an end token to the sentence\n",
        "  # so that the model know when to start and stop predicting.\n",
        "  w = '<start> ' + w + ' <end>'\n",
        "  return w"
      ],
      "execution_count": 8,
      "outputs": []
    },
    {
      "cell_type": "code",
      "metadata": {
        "colab": {
          "base_uri": "https://localhost:8080/"
        },
        "id": "AU8BdELd2bP0",
        "outputId": "fd98d7db-43d2-4d14-a6db-af39600d7d01"
      },
      "source": [
        "en_sentence = u\"May I borrow this book?\"\n",
        "sp_sentence = u\"¿Puedo tomar prestado este libro?\"\n",
        "print(preprocess_sentence(en_sentence))\n",
        "print(preprocess_sentence(sp_sentence).encode('utf-8'))"
      ],
      "execution_count": 9,
      "outputs": [
        {
          "output_type": "stream",
          "text": [
            "<start> may i borrow this book ? <end>\n",
            "b'<start> \\xc2\\xbf puedo tomar prestado este libro ? <end>'\n"
          ],
          "name": "stdout"
        }
      ]
    },
    {
      "cell_type": "code",
      "metadata": {
        "id": "Y8LkbneT2eWr"
      },
      "source": [
        "# 1. Remove the accents\n",
        "# 2. Clean the sentences\n",
        "# 3. Return word pairs in the format: [ENGLISH, SPANISH]\n",
        "def create_dataset(path, num_examples):\n",
        "  lines = io.open(path, encoding='UTF-8').read().strip().split('\\n')\n",
        "\n",
        "  word_pairs = [[preprocess_sentence(w) for w in l.split('\\t')]  for l in lines[:num_examples]]\n",
        "\n",
        "  return zip(*word_pairs)"
      ],
      "execution_count": 10,
      "outputs": []
    },
    {
      "cell_type": "code",
      "metadata": {
        "colab": {
          "base_uri": "https://localhost:8080/"
        },
        "id": "eJ7_DWAG2iKg",
        "outputId": "7235ba7b-ba64-4f06-ab01-59e2807dc4ac"
      },
      "source": [
        "en, sp = create_dataset(path_to_file, None)\n",
        "print(en[-1])\n",
        "print(sp[-1])"
      ],
      "execution_count": 11,
      "outputs": [
        {
          "output_type": "stream",
          "text": [
            "<start> if you want to sound like a native speaker , you must be willing to practice saying the same sentence over and over in the same way that banjo players practice the same phrase over and over until they can play it correctly and at the desired tempo . <end>\n",
            "<start> si quieres sonar como un hablante nativo , debes estar dispuesto a practicar diciendo la misma frase una y otra vez de la misma manera en que un musico de banjo practica el mismo fraseo una y otra vez hasta que lo puedan tocar correctamente y en el tiempo esperado . <end>\n"
          ],
          "name": "stdout"
        }
      ]
    },
    {
      "cell_type": "code",
      "metadata": {
        "id": "84XC0Kua2nn7"
      },
      "source": [
        "def tokenize(lang):\n",
        "  lang_tokenizer = tf.keras.preprocessing.text.Tokenizer(\n",
        "      filters='')\n",
        "  lang_tokenizer.fit_on_texts(lang)\n",
        "\n",
        "  tensor = lang_tokenizer.texts_to_sequences(lang)\n",
        "\n",
        "  tensor = tf.keras.preprocessing.sequence.pad_sequences(tensor,\n",
        "                                                         padding='post')\n",
        "\n",
        "  return tensor, lang_tokenizer"
      ],
      "execution_count": 12,
      "outputs": []
    },
    {
      "cell_type": "code",
      "metadata": {
        "id": "eRf55pwQ2pM-"
      },
      "source": [
        "def load_dataset(path, num_examples=None):\n",
        "  # creating cleaned input, output pairs\n",
        "  targ_lang, inp_lang = create_dataset(path, num_examples)\n",
        "\n",
        "  input_tensor, inp_lang_tokenizer = tokenize(inp_lang)\n",
        "  target_tensor, targ_lang_tokenizer = tokenize(targ_lang)\n",
        "\n",
        "  return input_tensor, target_tensor, inp_lang_tokenizer, targ_lang_tokenizer"
      ],
      "execution_count": 13,
      "outputs": []
    },
    {
      "cell_type": "code",
      "metadata": {
        "id": "vw-NCbRC2twT"
      },
      "source": [
        "# Try experimenting with the size of that dataset\n",
        "num_examples = 50000\n",
        "input_tensor, target_tensor, inp_lang, targ_lang = load_dataset(path_to_file, num_examples)\n",
        "\n",
        "# Calculate max_length of the target tensors\n",
        "max_length_targ, max_length_inp = target_tensor.shape[1], input_tensor.shape[1]"
      ],
      "execution_count": 14,
      "outputs": []
    },
    {
      "cell_type": "code",
      "metadata": {
        "colab": {
          "base_uri": "https://localhost:8080/"
        },
        "id": "3JC9Zk4W23qg",
        "outputId": "21d95643-4531-4474-b5cd-ff6e7776d54f"
      },
      "source": [
        "# Creating training and validation sets using an 80-20 split\n",
        "input_tensor_train, input_tensor_val, target_tensor_train, target_tensor_val = train_test_split(input_tensor, target_tensor, test_size=0.2)\n",
        "\n",
        "# Show length\n",
        "print(len(input_tensor_train), len(target_tensor_train), len(input_tensor_val), len(target_tensor_val))"
      ],
      "execution_count": 15,
      "outputs": [
        {
          "output_type": "stream",
          "text": [
            "40000 40000 10000 10000\n"
          ],
          "name": "stdout"
        }
      ]
    },
    {
      "cell_type": "code",
      "metadata": {
        "id": "lUwnN9uV24T1"
      },
      "source": [
        "def convert(lang, tensor):\n",
        "  for t in tensor:\n",
        "    if t!=0:\n",
        "      print (\"%d ----> %s\" % (t, lang.index_word[t]))"
      ],
      "execution_count": 16,
      "outputs": []
    },
    {
      "cell_type": "code",
      "metadata": {
        "colab": {
          "base_uri": "https://localhost:8080/"
        },
        "id": "xkKDqJCL24WU",
        "outputId": "308e563b-8113-4815-e711-449536263f18"
      },
      "source": [
        "print (\"Input Language; index to word mapping\")\n",
        "convert(inp_lang, input_tensor_train[0])\n",
        "print ()\n",
        "print (\"Target Language; index to word mapping\")\n",
        "convert(targ_lang, target_tensor_train[0])"
      ],
      "execution_count": 17,
      "outputs": [
        {
          "output_type": "stream",
          "text": [
            "Input Language; index to word mapping\n",
            "1 ----> <start>\n",
            "8 ----> el\n",
            "236 ----> nino\n",
            "1932 ----> tiro\n",
            "21 ----> una\n",
            "1772 ----> piedra\n",
            "3 ----> .\n",
            "2 ----> <end>\n",
            "\n",
            "Target Language; index to word mapping\n",
            "1 ----> <start>\n",
            "11 ----> the\n",
            "238 ----> boy\n",
            "1477 ----> threw\n",
            "9 ----> a\n",
            "1810 ----> stone\n",
            "3 ----> .\n",
            "2 ----> <end>\n"
          ],
          "name": "stdout"
        }
      ]
    },
    {
      "cell_type": "code",
      "metadata": {
        "id": "ymKs43Nt24Yj"
      },
      "source": [
        "BUFFER_SIZE = len(input_tensor_train)\n",
        "BATCH_SIZE = 64\n",
        "steps_per_epoch = len(input_tensor_train)//BATCH_SIZE\n",
        "embedding_dim = 256\n",
        "units = 1024\n",
        "vocab_inp_size = len(inp_lang.word_index)+1\n",
        "vocab_tar_size = len(targ_lang.word_index)+1\n",
        "\n",
        "dataset = tf.data.Dataset.from_tensor_slices((input_tensor_train, target_tensor_train)).shuffle(BUFFER_SIZE)\n",
        "dataset = dataset.batch(BATCH_SIZE, drop_remainder=True)"
      ],
      "execution_count": 18,
      "outputs": []
    },
    {
      "cell_type": "code",
      "metadata": {
        "colab": {
          "base_uri": "https://localhost:8080/"
        },
        "id": "m_x5BI2h24bQ",
        "outputId": "dbe7155f-868a-45b6-90f3-7739d6a1c622"
      },
      "source": [
        "example_input_batch, example_target_batch = next(iter(dataset))\n",
        "example_input_batch.shape, example_target_batch.shape"
      ],
      "execution_count": 19,
      "outputs": [
        {
          "output_type": "execute_result",
          "data": {
            "text/plain": [
              "(TensorShape([64, 16]), TensorShape([64, 12]))"
            ]
          },
          "metadata": {
            "tags": []
          },
          "execution_count": 19
        }
      ]
    },
    {
      "cell_type": "code",
      "metadata": {
        "id": "Ype6LOiU24d9"
      },
      "source": [
        "class Encoder(tf.keras.Model):\n",
        "  def __init__(self, vocab_size, embedding_dim, enc_units, batch_sz):\n",
        "    super(Encoder, self).__init__()\n",
        "    self.batch_sz = batch_sz\n",
        "    self.enc_units = enc_units\n",
        "    self.embedding = tf.keras.layers.Embedding(vocab_size, embedding_dim)\n",
        "    self.gru = tf.keras.layers.GRU(self.enc_units,\n",
        "                                   return_sequences=True,\n",
        "                                   return_state=True,\n",
        "                                   recurrent_initializer='glorot_uniform')\n",
        "\n",
        "  def call(self, x, hidden):\n",
        "    x = self.embedding(x)\n",
        "    output, state = self.gru(x, initial_state = hidden)\n",
        "    return output, state\n",
        "\n",
        "  def initialize_hidden_state(self):\n",
        "    return tf.zeros((self.batch_sz, self.enc_units))"
      ],
      "execution_count": 20,
      "outputs": []
    },
    {
      "cell_type": "code",
      "metadata": {
        "colab": {
          "base_uri": "https://localhost:8080/"
        },
        "id": "BjifQvT024hE",
        "outputId": "4edc27f6-8e27-49d6-859e-05bb068332e2"
      },
      "source": [
        "encoder = Encoder(vocab_inp_size, embedding_dim, units, BATCH_SIZE)\n",
        "\n",
        "# sample input\n",
        "sample_hidden = encoder.initialize_hidden_state()\n",
        "sample_output, sample_hidden = encoder(example_input_batch, sample_hidden)\n",
        "print ('Encoder output shape: (batch size, sequence length, units) {}'.format(sample_output.shape))\n",
        "print ('Encoder Hidden state shape: (batch size, units) {}'.format(sample_hidden.shape))"
      ],
      "execution_count": 21,
      "outputs": [
        {
          "output_type": "stream",
          "text": [
            "Encoder output shape: (batch size, sequence length, units) (64, 16, 1024)\n",
            "Encoder Hidden state shape: (batch size, units) (64, 1024)\n"
          ],
          "name": "stdout"
        }
      ]
    },
    {
      "cell_type": "code",
      "metadata": {
        "id": "R7waez5_24kf"
      },
      "source": [
        "class BahdanauAttention(tf.keras.layers.Layer):\n",
        "  def __init__(self, units):\n",
        "    super(BahdanauAttention, self).__init__()\n",
        "    self.W1 = tf.keras.layers.Dense(units)\n",
        "    self.W2 = tf.keras.layers.Dense(units)\n",
        "    self.V = tf.keras.layers.Dense(1)\n",
        "\n",
        "  def call(self, query, values):\n",
        "    # query hidden state shape == (batch_size, hidden size)\n",
        "    # query_with_time_axis shape == (batch_size, 1, hidden size)\n",
        "    # values shape == (batch_size, max_len, hidden size)\n",
        "    # we are doing this to broadcast addition along the time axis to calculate the score\n",
        "    query_with_time_axis = tf.expand_dims(query, 1)\n",
        "\n",
        "    # score shape == (batch_size, max_length, 1)\n",
        "    # we get 1 at the last axis because we are applying score to self.V\n",
        "    # the shape of the tensor before applying self.V is (batch_size, max_length, units)\n",
        "    score = self.V(tf.nn.tanh(\n",
        "        self.W1(query_with_time_axis) + self.W2(values)))\n",
        "\n",
        "    # attention_weights shape == (batch_size, max_length, 1)\n",
        "    attention_weights = tf.nn.softmax(score, axis=1)\n",
        "\n",
        "    # context_vector shape after sum == (batch_size, hidden_size)\n",
        "    context_vector = attention_weights * values\n",
        "    context_vector = tf.reduce_sum(context_vector, axis=1)\n",
        "\n",
        "    return context_vector, attention_weights"
      ],
      "execution_count": 22,
      "outputs": []
    },
    {
      "cell_type": "code",
      "metadata": {
        "colab": {
          "base_uri": "https://localhost:8080/"
        },
        "id": "-yQWwsbE3XJq",
        "outputId": "8df75445-c6fa-4aec-e730-d7552fee4d2c"
      },
      "source": [
        "attention_layer = BahdanauAttention(10)\n",
        "attention_result, attention_weights = attention_layer(sample_hidden, sample_output)\n",
        "\n",
        "print(\"Attention result shape: (batch size, units) {}\".format(attention_result.shape))\n",
        "print(\"Attention weights shape: (batch_size, sequence_length, 1) {}\".format(attention_weights.shape))"
      ],
      "execution_count": 23,
      "outputs": [
        {
          "output_type": "stream",
          "text": [
            "Attention result shape: (batch size, units) (64, 1024)\n",
            "Attention weights shape: (batch_size, sequence_length, 1) (64, 16, 1)\n"
          ],
          "name": "stdout"
        }
      ]
    },
    {
      "cell_type": "code",
      "metadata": {
        "colab": {
          "base_uri": "https://localhost:8080/"
        },
        "id": "euFIM49G3Ydv",
        "outputId": "9653efea-6f88-47c6-af1a-719b549b43bf"
      },
      "source": [
        "class Decoder(tf.keras.Model):\n",
        "  def __init__(self, vocab_size, embedding_dim, dec_units, batch_sz):\n",
        "    super(Decoder, self).__init__()\n",
        "    self.batch_sz = batch_sz\n",
        "    self.dec_units = dec_units\n",
        "    self.embedding = tf.keras.layers.Embedding(vocab_size, embedding_dim)\n",
        "    self.gru = tf.keras.layers.GRU(self.dec_units,\n",
        "                                   return_sequences=True,\n",
        "                                   return_state=True,\n",
        "                                   recurrent_initializer='glorot_uniform')\n",
        "    self.fc = tf.keras.layers.Dense(vocab_size)\n",
        "\n",
        "    # used for attention\n",
        "    self.attention = BahdanauAttention(self.dec_units)\n",
        "\n",
        "  def call(self, x, hidden, enc_output):\n",
        "    # enc_output shape == (batch_size, max_length, hidden_size)\n",
        "    context_vector, attention_weights = self.attention(hidden, enc_output)\n",
        "\n",
        "    # x shape after passing through embedding == (batch_size, 1, embedding_dim)\n",
        "    x = self.embedding(x)\n",
        "\n",
        "    # x shape after concatenation == (batch_size, 1, embedding_dim + hidden_size)\n",
        "    x = tf.concat([tf.expand_dims(context_vector, 1), x], axis=-1)\n",
        "\n",
        "    # passing the concatenated vector to the GRU\n",
        "    output, state = self.gru(x)\n",
        "\n",
        "    # output shape == (batch_size * 1, hidden_size)\n",
        "    output = tf.reshape(output, (-1, output.shape[2]))\n",
        "\n",
        "    # output shape == (batch_size, vocab)\n",
        "    x = self.fc(output)\n",
        "\n",
        "    return x, state, attention_weights\n",
        "\n",
        "decoder = Decoder(vocab_tar_size, embedding_dim, units, BATCH_SIZE)\n",
        "\n",
        "sample_decoder_output, _, _ = decoder(tf.random.uniform((BATCH_SIZE, 1)),\n",
        "                                      sample_hidden, sample_output)\n",
        "\n",
        "print ('Decoder output shape: (batch_size, vocab size) {}'.format(sample_decoder_output.shape))"
      ],
      "execution_count": 24,
      "outputs": [
        {
          "output_type": "stream",
          "text": [
            "Decoder output shape: (batch_size, vocab size) (64, 6817)\n"
          ],
          "name": "stdout"
        }
      ]
    },
    {
      "cell_type": "code",
      "metadata": {
        "id": "Mh-XpF0z3Ygp"
      },
      "source": [
        "optimizer = tf.keras.optimizers.Adam()\n",
        "loss_object = tf.keras.losses.SparseCategoricalCrossentropy(\n",
        "    from_logits=True, reduction='none')\n",
        "\n",
        "def loss_function(real, pred):\n",
        "  mask = tf.math.logical_not(tf.math.equal(real, 0))\n",
        "  loss_ = loss_object(real, pred)\n",
        "\n",
        "  mask = tf.cast(mask, dtype=loss_.dtype)\n",
        "  loss_ *= mask\n",
        "\n",
        "  return tf.reduce_mean(loss_)"
      ],
      "execution_count": 25,
      "outputs": []
    },
    {
      "cell_type": "code",
      "metadata": {
        "id": "hRtXzqW83Yjd"
      },
      "source": [
        "checkpoint_dir = './training_checkpoints'\n",
        "checkpoint_prefix = os.path.join(checkpoint_dir, \"ckpt\")\n",
        "checkpoint = tf.train.Checkpoint(optimizer=optimizer,\n",
        "                                 encoder=encoder,\n",
        "                                 decoder=decoder)"
      ],
      "execution_count": 26,
      "outputs": []
    },
    {
      "cell_type": "code",
      "metadata": {
        "colab": {
          "base_uri": "https://localhost:8080/"
        },
        "id": "1i4Un-IZ3YmJ",
        "outputId": "cd1c168a-c3a1-45b1-d7fc-d6bd096d0f9f"
      },
      "source": [
        "@tf.function\n",
        "def train_step(inp, targ, enc_hidden):\n",
        "  loss = 0\n",
        "\n",
        "  with tf.GradientTape() as tape:\n",
        "    enc_output, enc_hidden = encoder(inp, enc_hidden)\n",
        "\n",
        "    dec_hidden = enc_hidden\n",
        "\n",
        "    dec_input = tf.expand_dims([targ_lang.word_index['<start>']] * BATCH_SIZE, 1)\n",
        "\n",
        "    # Teacher forcing - feeding the target as the next input\n",
        "    for t in range(1, targ.shape[1]):\n",
        "      # passing enc_output to the decoder\n",
        "      predictions, dec_hidden, _ = decoder(dec_input, dec_hidden, enc_output)\n",
        "\n",
        "      loss += loss_function(targ[:, t], predictions)\n",
        "\n",
        "      # using teacher forcing\n",
        "      dec_input = tf.expand_dims(targ[:, t], 1)\n",
        "\n",
        "  batch_loss = (loss / int(targ.shape[1]))\n",
        "\n",
        "  variables = encoder.trainable_variables + decoder.trainable_variables\n",
        "\n",
        "  gradients = tape.gradient(loss, variables)\n",
        "\n",
        "  optimizer.apply_gradients(zip(gradients, variables))\n",
        "\n",
        "  return batch_loss\n",
        "\n",
        "EPOCHS = 10\n",
        "\n",
        "for epoch in range(EPOCHS):\n",
        "  start = time.time()\n",
        "\n",
        "  enc_hidden = encoder.initialize_hidden_state()\n",
        "  total_loss = 0\n",
        "\n",
        "  for (batch, (inp, targ)) in enumerate(dataset.take(steps_per_epoch)):\n",
        "    batch_loss = train_step(inp, targ, enc_hidden)\n",
        "    total_loss += batch_loss\n",
        "\n",
        "    if batch % 100 == 0:\n",
        "      print('Epoch {} Batch {} Loss {:.4f}'.format(epoch + 1,\n",
        "                                                   batch,\n",
        "                                                   batch_loss.numpy()))\n",
        "  # saving (checkpoint) the model every 2 epochs\n",
        "  if (epoch + 1) % 2 == 0:\n",
        "    checkpoint.save(file_prefix = checkpoint_prefix)\n",
        "\n",
        "  print('Epoch {} Loss {:.4f}'.format(epoch + 1,\n",
        "                                      total_loss / steps_per_epoch))\n",
        "  print('Time taken for 1 epoch {} sec\\n'.format(time.time() - start))"
      ],
      "execution_count": 32,
      "outputs": [
        {
          "output_type": "stream",
          "text": [
            "Epoch 1 Batch 0 Loss 4.0309\n",
            "Epoch 1 Batch 100 Loss 2.3301\n",
            "Epoch 1 Batch 200 Loss 1.8916\n",
            "Epoch 1 Batch 300 Loss 1.7986\n",
            "Epoch 1 Batch 400 Loss 1.7432\n",
            "Epoch 1 Batch 500 Loss 1.5538\n",
            "Epoch 1 Batch 600 Loss 1.5636\n",
            "Epoch 1 Loss 1.9199\n",
            "Time taken for 1 epoch 2606.5152549743652 sec\n",
            "\n",
            "Epoch 2 Batch 0 Loss 1.4609\n",
            "Epoch 2 Batch 100 Loss 1.4058\n",
            "Epoch 2 Batch 200 Loss 1.2816\n",
            "Epoch 2 Batch 300 Loss 1.1441\n",
            "Epoch 2 Batch 400 Loss 1.3572\n",
            "Epoch 2 Batch 500 Loss 1.2161\n",
            "Epoch 2 Batch 600 Loss 1.0625\n",
            "Epoch 2 Loss 1.2253\n",
            "Time taken for 1 epoch 2561.1614842414856 sec\n",
            "\n",
            "Epoch 3 Batch 0 Loss 0.9518\n",
            "Epoch 3 Batch 100 Loss 0.8599\n",
            "Epoch 3 Batch 200 Loss 0.8856\n",
            "Epoch 3 Batch 300 Loss 0.7037\n",
            "Epoch 3 Batch 400 Loss 0.7793\n",
            "Epoch 3 Batch 500 Loss 0.7093\n",
            "Epoch 3 Batch 600 Loss 0.5723\n",
            "Epoch 3 Loss 0.7954\n",
            "Time taken for 1 epoch 2529.295515060425 sec\n",
            "\n",
            "Epoch 4 Batch 0 Loss 0.5916\n",
            "Epoch 4 Batch 100 Loss 0.4778\n",
            "Epoch 4 Batch 200 Loss 0.4310\n",
            "Epoch 4 Batch 300 Loss 0.4867\n",
            "Epoch 4 Batch 400 Loss 0.5588\n",
            "Epoch 4 Batch 500 Loss 0.5392\n",
            "Epoch 4 Batch 600 Loss 0.5630\n",
            "Epoch 4 Loss 0.4978\n",
            "Time taken for 1 epoch 2539.9327507019043 sec\n",
            "\n",
            "Epoch 5 Batch 0 Loss 0.3267\n",
            "Epoch 5 Batch 100 Loss 0.2645\n",
            "Epoch 5 Batch 200 Loss 0.2440\n",
            "Epoch 5 Batch 300 Loss 0.3551\n",
            "Epoch 5 Batch 400 Loss 0.2978\n",
            "Epoch 5 Batch 500 Loss 0.3570\n",
            "Epoch 5 Batch 600 Loss 0.3945\n",
            "Epoch 5 Loss 0.3129\n",
            "Time taken for 1 epoch 2514.184778213501 sec\n",
            "\n",
            "Epoch 6 Batch 0 Loss 0.1895\n",
            "Epoch 6 Batch 100 Loss 0.1883\n",
            "Epoch 6 Batch 200 Loss 0.2230\n",
            "Epoch 6 Batch 300 Loss 0.1551\n",
            "Epoch 6 Batch 400 Loss 0.2022\n",
            "Epoch 6 Batch 500 Loss 0.1717\n",
            "Epoch 6 Batch 600 Loss 0.2020\n",
            "Epoch 6 Loss 0.1998\n",
            "Time taken for 1 epoch 2510.539797306061 sec\n",
            "\n",
            "Epoch 7 Batch 0 Loss 0.0862\n",
            "Epoch 7 Batch 100 Loss 0.1018\n",
            "Epoch 7 Batch 200 Loss 0.1277\n",
            "Epoch 7 Batch 300 Loss 0.1532\n",
            "Epoch 7 Batch 400 Loss 0.1577\n",
            "Epoch 7 Batch 500 Loss 0.1768\n",
            "Epoch 7 Batch 600 Loss 0.1271\n",
            "Epoch 7 Loss 0.1384\n",
            "Time taken for 1 epoch 2500.346896648407 sec\n",
            "\n",
            "Epoch 8 Batch 0 Loss 0.0818\n",
            "Epoch 8 Batch 100 Loss 0.0751\n",
            "Epoch 8 Batch 200 Loss 0.0918\n",
            "Epoch 8 Batch 300 Loss 0.0894\n",
            "Epoch 8 Batch 400 Loss 0.1054\n",
            "Epoch 8 Batch 500 Loss 0.0970\n",
            "Epoch 8 Batch 600 Loss 0.1222\n",
            "Epoch 8 Loss 0.0993\n",
            "Time taken for 1 epoch 2507.965502023697 sec\n",
            "\n",
            "Epoch 9 Batch 0 Loss 0.0556\n",
            "Epoch 9 Batch 100 Loss 0.0822\n",
            "Epoch 9 Batch 200 Loss 0.0728\n",
            "Epoch 9 Batch 300 Loss 0.0698\n",
            "Epoch 9 Batch 400 Loss 0.1006\n",
            "Epoch 9 Batch 500 Loss 0.0775\n",
            "Epoch 9 Batch 600 Loss 0.0933\n",
            "Epoch 9 Loss 0.0814\n",
            "Time taken for 1 epoch 2667.4176728725433 sec\n",
            "\n",
            "Epoch 10 Batch 0 Loss 0.0469\n",
            "Epoch 10 Batch 100 Loss 0.0640\n",
            "Epoch 10 Batch 200 Loss 0.0628\n",
            "Epoch 10 Batch 300 Loss 0.0962\n",
            "Epoch 10 Batch 400 Loss 0.0620\n",
            "Epoch 10 Batch 500 Loss 0.1139\n",
            "Epoch 10 Batch 600 Loss 0.0720\n",
            "Epoch 10 Loss 0.0717\n",
            "Time taken for 1 epoch 2729.873986721039 sec\n",
            "\n"
          ],
          "name": "stdout"
        }
      ]
    },
    {
      "cell_type": "code",
      "metadata": {
        "id": "xHY14FxZ3YpI"
      },
      "source": [
        "def evaluate(sentence):\n",
        "  attention_plot = np.zeros((max_length_targ, max_length_inp))\n",
        "\n",
        "  sentence = preprocess_sentence(sentence)\n",
        "\n",
        "  inputs = [inp_lang.word_index[i] for i in sentence.split(' ')]\n",
        "  inputs = tf.keras.preprocessing.sequence.pad_sequences([inputs],\n",
        "                                                         maxlen=max_length_inp,\n",
        "                                                         padding='post')\n",
        "  inputs = tf.convert_to_tensor(inputs)\n",
        "\n",
        "  result = ''\n",
        "\n",
        "  hidden = [tf.zeros((1, units))]\n",
        "  enc_out, enc_hidden = encoder(inputs, hidden)\n",
        "\n",
        "  dec_hidden = enc_hidden\n",
        "  dec_input = tf.expand_dims([targ_lang.word_index['<start>']], 0)\n",
        "\n",
        "  for t in range(max_length_targ):\n",
        "    predictions, dec_hidden, attention_weights = decoder(dec_input,\n",
        "                                                         dec_hidden,\n",
        "                                                         enc_out)\n",
        "\n",
        "    # storing the attention weights to plot later on\n",
        "    attention_weights = tf.reshape(attention_weights, (-1, ))\n",
        "    attention_plot[t] = attention_weights.numpy()\n",
        "\n",
        "    predicted_id = tf.argmax(predictions[0]).numpy()\n",
        "\n",
        "    result += targ_lang.index_word[predicted_id] + ' '\n",
        "\n",
        "    if targ_lang.index_word[predicted_id] == '<end>':\n",
        "      return result, sentence, attention_plot\n",
        "\n",
        "    # the predicted ID is fed back into the model\n",
        "    dec_input = tf.expand_dims([predicted_id], 0)\n",
        "\n",
        "  return result, sentence, attention_plot"
      ],
      "execution_count": 33,
      "outputs": []
    },
    {
      "cell_type": "code",
      "metadata": {
        "id": "6jF9CeWy3YsW"
      },
      "source": [
        "# function for plotting the attention weights\n",
        "def plot_attention(attention, sentence, predicted_sentence):\n",
        "  fig = plt.figure(figsize=(10,10))\n",
        "  ax = fig.add_subplot(1, 1, 1)\n",
        "  ax.matshow(attention, cmap='viridis')\n",
        "\n",
        "  fontdict = {'fontsize': 14}\n",
        "\n",
        "  ax.set_xticklabels([''] + sentence, fontdict=fontdict, rotation=90)\n",
        "  ax.set_yticklabels([''] + predicted_sentence, fontdict=fontdict)\n",
        "\n",
        "  ax.xaxis.set_major_locator(ticker.MultipleLocator(1))\n",
        "  ax.yaxis.set_major_locator(ticker.MultipleLocator(1))\n",
        "\n",
        "  plt.show()"
      ],
      "execution_count": 34,
      "outputs": []
    },
    {
      "cell_type": "code",
      "metadata": {
        "id": "d9FL2dCP4Os8"
      },
      "source": [
        "def translate(sentence):\n",
        "  result, sentence, attention_plot = evaluate(sentence)\n",
        "\n",
        "  print('Input: %s' % (sentence))\n",
        "  print('Predicted translation: {}'.format(result))\n",
        "  attention_plot = attention_plot[:len(result.split(' ')), :len(sentence.split(' '))]\n",
        "  plot_attention(attention_plot, sentence.split(' '), result.split(' '))"
      ],
      "execution_count": 35,
      "outputs": []
    },
    {
      "cell_type": "code",
      "metadata": {
        "colab": {
          "base_uri": "https://localhost:8080/"
        },
        "id": "0ZoNa-Hn4Ow2",
        "outputId": "7d4c0d11-e153-44be-a8f8-40d41d7e71b2"
      },
      "source": [
        "# restoring the latest checkpoint in checkpoint_dir\n",
        "checkpoint.restore(tf.train.latest_checkpoint(checkpoint_dir))"
      ],
      "execution_count": 36,
      "outputs": [
        {
          "output_type": "execute_result",
          "data": {
            "text/plain": [
              "<tensorflow.python.training.tracking.util.CheckpointLoadStatus at 0x7fcfb0b028d0>"
            ]
          },
          "metadata": {
            "tags": []
          },
          "execution_count": 36
        }
      ]
    },
    {
      "cell_type": "code",
      "metadata": {
        "colab": {
          "base_uri": "https://localhost:8080/"
        },
        "id": "8JAo44D4GFUj",
        "outputId": "bc66360c-965a-4ee1-f575-dc831f049ae5"
      },
      "source": [
        "import cv2\n",
        "!pip install Pillow\n",
        "!sudo apt install tesseract-ocr\n",
        "!pip install pytesseract\n",
        "from PIL import ImageEnhance, ImageFilter, Image\n",
        "import pytesseract as ts\n",
        "from google.colab.patches import cv2_imshow\n",
        "import matplotlib.pyplot as plt\n",
        "import numpy as np"
      ],
      "execution_count": 38,
      "outputs": [
        {
          "output_type": "stream",
          "text": [
            "Requirement already satisfied: Pillow in /usr/local/lib/python3.6/dist-packages (7.0.0)\n",
            "Reading package lists... Done\n",
            "Building dependency tree       \n",
            "Reading state information... Done\n",
            "The following additional packages will be installed:\n",
            "  tesseract-ocr-eng tesseract-ocr-osd\n",
            "The following NEW packages will be installed:\n",
            "  tesseract-ocr tesseract-ocr-eng tesseract-ocr-osd\n",
            "0 upgraded, 3 newly installed, 0 to remove and 13 not upgraded.\n",
            "Need to get 4,795 kB of archives.\n",
            "After this operation, 15.8 MB of additional disk space will be used.\n",
            "Get:1 http://archive.ubuntu.com/ubuntu bionic/universe amd64 tesseract-ocr-eng all 4.00~git24-0e00fe6-1.2 [1,588 kB]\n",
            "Get:2 http://archive.ubuntu.com/ubuntu bionic/universe amd64 tesseract-ocr-osd all 4.00~git24-0e00fe6-1.2 [2,989 kB]\n",
            "Get:3 http://archive.ubuntu.com/ubuntu bionic/universe amd64 tesseract-ocr amd64 4.00~git2288-10f4998a-2 [218 kB]\n",
            "Fetched 4,795 kB in 1s (4,292 kB/s)\n",
            "debconf: unable to initialize frontend: Dialog\n",
            "debconf: (No usable dialog-like program is installed, so the dialog based frontend cannot be used. at /usr/share/perl5/Debconf/FrontEnd/Dialog.pm line 76, <> line 3.)\n",
            "debconf: falling back to frontend: Readline\n",
            "debconf: unable to initialize frontend: Readline\n",
            "debconf: (This frontend requires a controlling tty.)\n",
            "debconf: falling back to frontend: Teletype\n",
            "dpkg-preconfigure: unable to re-open stdin: \n",
            "Selecting previously unselected package tesseract-ocr-eng.\n",
            "(Reading database ... 146374 files and directories currently installed.)\n",
            "Preparing to unpack .../tesseract-ocr-eng_4.00~git24-0e00fe6-1.2_all.deb ...\n",
            "Unpacking tesseract-ocr-eng (4.00~git24-0e00fe6-1.2) ...\n",
            "Selecting previously unselected package tesseract-ocr-osd.\n",
            "Preparing to unpack .../tesseract-ocr-osd_4.00~git24-0e00fe6-1.2_all.deb ...\n",
            "Unpacking tesseract-ocr-osd (4.00~git24-0e00fe6-1.2) ...\n",
            "Selecting previously unselected package tesseract-ocr.\n",
            "Preparing to unpack .../tesseract-ocr_4.00~git2288-10f4998a-2_amd64.deb ...\n",
            "Unpacking tesseract-ocr (4.00~git2288-10f4998a-2) ...\n",
            "Setting up tesseract-ocr-osd (4.00~git24-0e00fe6-1.2) ...\n",
            "Setting up tesseract-ocr-eng (4.00~git24-0e00fe6-1.2) ...\n",
            "Setting up tesseract-ocr (4.00~git2288-10f4998a-2) ...\n",
            "Processing triggers for man-db (2.8.3-2ubuntu0.1) ...\n",
            "Collecting pytesseract\n",
            "  Downloading https://files.pythonhosted.org/packages/a0/e6/a4e9fc8a93c1318540e8de6d8d4beb5749b7960388a7c7f27799fc2dd016/pytesseract-0.3.7.tar.gz\n",
            "Requirement already satisfied: Pillow in /usr/local/lib/python3.6/dist-packages (from pytesseract) (7.0.0)\n",
            "Building wheels for collected packages: pytesseract\n",
            "  Building wheel for pytesseract (setup.py) ... \u001b[?25l\u001b[?25hdone\n",
            "  Created wheel for pytesseract: filename=pytesseract-0.3.7-py2.py3-none-any.whl size=13945 sha256=67b21410e926fe213f8da36c8990f8cee970e611f87be8ef0d01b01bc9f4cdaf\n",
            "  Stored in directory: /root/.cache/pip/wheels/81/20/7e/1dd0daad1575d5260916bb1e9781246430647adaef4b3ca3b3\n",
            "Successfully built pytesseract\n",
            "Installing collected packages: pytesseract\n",
            "Successfully installed pytesseract-0.3.7\n"
          ],
          "name": "stdout"
        }
      ]
    },
    {
      "cell_type": "code",
      "metadata": {
        "colab": {
          "base_uri": "https://localhost:8080/"
        },
        "id": "9xtnWUa0GF2U",
        "outputId": "3fb4252d-baf9-431c-c909-eceb5ef71dd1"
      },
      "source": [
        "from google.colab import drive\n",
        "drive.mount('/content/gdrive')"
      ],
      "execution_count": 39,
      "outputs": [
        {
          "output_type": "stream",
          "text": [
            "Mounted at /content/gdrive\n"
          ],
          "name": "stdout"
        }
      ]
    },
    {
      "cell_type": "code",
      "metadata": {
        "colab": {
          "base_uri": "https://localhost:8080/"
        },
        "id": "xeZLYwkZGGJ4",
        "outputId": "255804fd-dbc9-444c-f476-5e42a9516222"
      },
      "source": [
        "import os\n",
        "print( os.getcwd() )\n",
        "print( os.listdir() )"
      ],
      "execution_count": 40,
      "outputs": [
        {
          "output_type": "stream",
          "text": [
            "/content\n",
            "['.config', 'gdrive', 'training_checkpoints', 'sample_data']\n"
          ],
          "name": "stdout"
        }
      ]
    },
    {
      "cell_type": "code",
      "metadata": {
        "id": "LKAx8yjwGGaG"
      },
      "source": [
        "from IPython.display import display, Javascript\n",
        "from google.colab.output import eval_js\n",
        "from base64 import b64decode\n",
        "\n",
        "def take_photo(filename='photo.jpg', quality=0.8):\n",
        "  js = Javascript('''\n",
        "    async function takePhoto(quality) {\n",
        "      const div = document.createElement('div');\n",
        "      const capture = document.createElement('button');\n",
        "      capture.textContent = 'Capture';\n",
        "      div.appendChild(capture);\n",
        "\n",
        "      const video = document.createElement('video');\n",
        "      video.style.display = 'block';\n",
        "      const stream = await navigator.mediaDevices.getUserMedia({video: true});\n",
        "\n",
        "      document.body.appendChild(div);\n",
        "      div.appendChild(video);\n",
        "      video.srcObject = stream;\n",
        "      await video.play();\n",
        "\n",
        "      // Resize the output to fit the video element.\n",
        "      google.colab.output.setIframeHeight(document.documentElement.scrollHeight, true);\n",
        "\n",
        "      // Wait for Capture to be clicked.\n",
        "      await new Promise((resolve) => capture.onclick = resolve);\n",
        "\n",
        "      const canvas = document.createElement('canvas');\n",
        "      canvas.width = video.videoWidth;\n",
        "      canvas.height = video.videoHeight;\n",
        "      canvas.getContext('2d').drawImage(video, 0, 0);\n",
        "      stream.getVideoTracks()[0].stop();\n",
        "      div.remove();\n",
        "      return canvas.toDataURL('image/jpeg', quality);\n",
        "    }\n",
        "    ''')\n",
        "  display(js)\n",
        "  data = eval_js('takePhoto({})'.format(quality))\n",
        "  binary = b64decode(data.split(',')[1])\n",
        "  with open(filename, 'wb') as f:\n",
        "    f.write(binary)\n",
        "  return filename"
      ],
      "execution_count": 41,
      "outputs": []
    },
    {
      "cell_type": "code",
      "metadata": {
        "colab": {
          "base_uri": "https://localhost:8080/",
          "height": 514
        },
        "id": "uh6I0qxXGGoH",
        "outputId": "8faa3d38-64a7-4c08-a30d-faacb7718aa2"
      },
      "source": [
        "from IPython.display import Image\n",
        "try:\n",
        "  filename = take_photo()\n",
        "  print('Saved to {}'.format(filename))\n",
        "  \n",
        "  # Show the image which was just taken.\n",
        "  display(Image(filename))\n",
        "except Exception as err:\n",
        "  # Errors will be thrown if the user does not have a webcam or if they do not\n",
        "  # grant the page permission to access it.\n",
        "  print(str(err))"
      ],
      "execution_count": 44,
      "outputs": [
        {
          "output_type": "display_data",
          "data": {
            "application/javascript": [
              "\n",
              "    async function takePhoto(quality) {\n",
              "      const div = document.createElement('div');\n",
              "      const capture = document.createElement('button');\n",
              "      capture.textContent = 'Capture';\n",
              "      div.appendChild(capture);\n",
              "\n",
              "      const video = document.createElement('video');\n",
              "      video.style.display = 'block';\n",
              "      const stream = await navigator.mediaDevices.getUserMedia({video: true});\n",
              "\n",
              "      document.body.appendChild(div);\n",
              "      div.appendChild(video);\n",
              "      video.srcObject = stream;\n",
              "      await video.play();\n",
              "\n",
              "      // Resize the output to fit the video element.\n",
              "      google.colab.output.setIframeHeight(document.documentElement.scrollHeight, true);\n",
              "\n",
              "      // Wait for Capture to be clicked.\n",
              "      await new Promise((resolve) => capture.onclick = resolve);\n",
              "\n",
              "      const canvas = document.createElement('canvas');\n",
              "      canvas.width = video.videoWidth;\n",
              "      canvas.height = video.videoHeight;\n",
              "      canvas.getContext('2d').drawImage(video, 0, 0);\n",
              "      stream.getVideoTracks()[0].stop();\n",
              "      div.remove();\n",
              "      return canvas.toDataURL('image/jpeg', quality);\n",
              "    }\n",
              "    "
            ],
            "text/plain": [
              "<IPython.core.display.Javascript object>"
            ]
          },
          "metadata": {
            "tags": []
          }
        },
        {
          "output_type": "stream",
          "text": [
            "Saved to photo.jpg\n"
          ],
          "name": "stdout"
        },
        {
          "output_type": "display_data",
          "data": {
            "image/jpeg": "[encoded data removed]",
            "text/plain": [
              "<IPython.core.display.Image object>"
            ]
          },
          "metadata": {
            "tags": []
          }
        }
      ]
    },
    {
      "cell_type": "code",
      "metadata": {
        "colab": {
          "base_uri": "https://localhost:8080/",
          "height": 718
        },
        "id": "0vvlv5nqGG3V",
        "outputId": "922587ba-53f7-4d80-bba3-abe04d4a8472"
      },
      "source": [
        " from google.colab.patches import cv2_imshow\n",
        " img = cv2.imread('photo.jpg',)\n",
        " gray = cv2.cvtColor(img,cv2.COLOR_BGR2GRAY)\n",
        " ret, thresh = cv2.threshold(gray,1010, 200, cv2.THRESH_OTSU, cv2.THRESH_BINARY)\n",
        " text = ts.image_to_string(thresh)  \n",
        " cv2_imshow(thresh)   #printing realtime text\n",
        " print(text)"
      ],
      "execution_count": 45,
      "outputs": [
        {
          "output_type": "display_data",
          "data": {
            "image/png": "[encoded data removed]",
            "text/plain": [
              "<PIL.Image.Image image mode=L size=640x480 at 0x7FCFA5BA5630>"
            ]
          },
          "metadata": {
            "tags": []
          }
        },
        {
          "output_type": "stream",
          "text": [
            "iHola! Me llamo Sefior\n",
            "Santos. Yo soy cubano. Me\n",
            "\n",
            "gusta viajar y caminar cuando\n",
            "\n",
            "no trabajo. Soy médico y\n",
            "\n",
            "trabajo en un hospital. No soy\n",
            "muy alto, pero soy delgado.\n",
            "Tengo dos perros gordos que\n",
            "\n",
            "$e llaman Azul y Rojo.\n",
            "\f\n"
          ],
          "name": "stdout"
        }
      ]
    },
    {
      "cell_type": "code",
      "metadata": {
        "colab": {
          "base_uri": "https://localhost:8080/"
        },
        "id": "AZF50AqRGHrr",
        "outputId": "a85da0d9-b086-4b93-e4b9-e6aa89dd4ae4"
      },
      "source": [
        "from pydrive.auth import GoogleAuth\n",
        "from pydrive.drive import GoogleDrive\n",
        "from google.colab import auth\n",
        "from oauth2client.client import GoogleCredentials\n",
        "\n",
        "# Authenticate and create the PyDrive client.\n",
        "# This only needs to be done once in a notebook.\n",
        "auth.authenticate_user()\n",
        "gauth = GoogleAuth()\n",
        "gauth.credentials = GoogleCredentials.get_application_default()\n",
        "drive = GoogleDrive(gauth)\n",
        "\n",
        "# Create & upload a text file.\n",
        "uploaded = drive.CreateFile({'title': 'Spanish.txt'})\n",
        "uploaded.SetContentString(text)\n",
        "uploaded.Upload()\n",
        "print('Uploaded file with ID {}'.format(uploaded.get('id')))\n",
        "ID = format(uploaded.get('id'))"
      ],
      "execution_count": 46,
      "outputs": [
        {
          "output_type": "stream",
          "text": [
            "Uploaded file with ID 1pM1kI-CmmswxpG90HJsub5hu4APE1xWl\n"
          ],
          "name": "stdout"
        }
      ]
    },
    {
      "cell_type": "code",
      "metadata": {
        "colab": {
          "base_uri": "https://localhost:8080/"
        },
        "id": "kwFnuyCOIGao",
        "outputId": "1e33ac4e-0334-4c59-dee6-83968687e79b"
      },
      "source": [
        "from pydrive.auth import GoogleAuth\n",
        "from pydrive.drive import GoogleDrive\n",
        "from google.colab import auth\n",
        "from oauth2client.client import GoogleCredentials\n",
        "\n",
        "# Authenticate and create the PyDrive client.\n",
        "# This only needs to be done once per notebook.\n",
        "auth.authenticate_user()\n",
        "gauth = GoogleAuth()\n",
        "gauth.credentials = GoogleCredentials.get_application_default()\n",
        "drive = GoogleDrive(gauth)\n",
        "\n",
        "# Download a file based on its file ID.\n",
        "#\n",
        "# A file ID looks like: laggVyWshwcyP6kEI-y_W3P8D26sz\n",
        "file_id = ID\n",
        "downloaded = drive.CreateFile({'id': file_id})\n",
        "print('Downloaded content \"{}\"'.format(downloaded.GetContentString()))\n",
        "String=format(downloaded.GetContentString())"
      ],
      "execution_count": 47,
      "outputs": [
        {
          "output_type": "stream",
          "text": [
            "Downloaded content \"iHola! Me llamo Sefior\n",
            "Santos. Yo soy cubano. Me\n",
            "\n",
            "gusta viajar y caminar cuando\n",
            "\n",
            "no trabajo. Soy médico y\n",
            "\n",
            "trabajo en un hospital. No soy\n",
            "muy alto, pero soy delgado.\n",
            "Tengo dos perros gordos que\n",
            "\n",
            "$e llaman Azul y Rojo.\n",
            "\f\"\n"
          ],
          "name": "stdout"
        }
      ]
    },
    {
      "cell_type": "code",
      "metadata": {
        "colab": {
          "base_uri": "https://localhost:8080/",
          "height": 675
        },
        "id": "Q6H6N4174O1f",
        "outputId": "1e8fa2a3-3800-4b31-b54f-bf3cdd42bec4"
      },
      "source": [
        "translate(u'Me gusta viajar y ')"
      ],
      "execution_count": 56,
      "outputs": [
        {
          "output_type": "stream",
          "text": [
            "Input: <start> me gusta viajar y <end>\n",
            "Predicted translation: i like to travel . <end> \n"
          ],
          "name": "stdout"
        },
        {
          "output_type": "display_data",
          "data": {
            "image/png": "[encoded data removed]",
            "text/plain": [
              "<Figure size 720x720 with 1 Axes>"
            ]
          },
          "metadata": {
            "tags": [],
            "needs_background": "light"
          }
        }
      ]
    },
    {
      "cell_type": "code",
      "metadata": {
        "colab": {
          "base_uri": "https://localhost:8080/"
        },
        "id": "scOn1TMlUbqB",
        "outputId": "42fe00b6-577a-4e05-affb-05fc8a6bb1a4"
      },
      "source": [
        "!pip install gTTS"
      ],
      "execution_count": 57,
      "outputs": [
        {
          "output_type": "stream",
          "text": [
            "Collecting gTTS\n",
            "  Downloading https://files.pythonhosted.org/packages/44/31/4494ecac89677d3c839d079363ab655c4751764803ddcd22bcc37f6d32f8/gTTS-2.2.1-py3-none-any.whl\n",
            "Requirement already satisfied: click in /usr/local/lib/python3.6/dist-packages (from gTTS) (7.1.2)\n",
            "Requirement already satisfied: six in /usr/local/lib/python3.6/dist-packages (from gTTS) (1.15.0)\n",
            "Requirement already satisfied: requests in /usr/local/lib/python3.6/dist-packages (from gTTS) (2.23.0)\n",
            "Requirement already satisfied: chardet<4,>=3.0.2 in /usr/local/lib/python3.6/dist-packages (from requests->gTTS) (3.0.4)\n",
            "Requirement already satisfied: urllib3!=1.25.0,!=1.25.1,<1.26,>=1.21.1 in /usr/local/lib/python3.6/dist-packages (from requests->gTTS) (1.24.3)\n",
            "Requirement already satisfied: certifi>=2017.4.17 in /usr/local/lib/python3.6/dist-packages (from requests->gTTS) (2020.12.5)\n",
            "Requirement already satisfied: idna<3,>=2.5 in /usr/local/lib/python3.6/dist-packages (from requests->gTTS) (2.10)\n",
            "Installing collected packages: gTTS\n",
            "Successfully installed gTTS-2.2.1\n"
          ],
          "name": "stdout"
        }
      ]
    },
    {
      "cell_type": "code",
      "metadata": {
        "colab": {
          "base_uri": "https://localhost:8080/",
          "height": 52
        },
        "id": "oSwCEwVuUb28",
        "outputId": "af544cb5-7cc8-4e2f-8802-313c2c17990f"
      },
      "source": [
        "from gtts import gTTS\n",
        "from IPython.display import Audio\n",
        "tts = gTTS(\"i like to travel .\")\n",
        "tts.save('1.wav')\n",
        "sound_file = '1.wav'\n",
        "Audio(sound_file, autoplay = True)"
      ],
      "execution_count": 59,
      "outputs": [
        {
          "output_type": "execute_result",
          "data": {
            "text/html": [
              "\n",
              "                <audio controls=\"controls\" autoplay=\"autoplay\">\n",
              "                    <source src=\"data:audio/x-wav;base64,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\" type=\"audio/x-wav\" />\n",
              "                    Your browser does not support the audio element.\n",
              "                </audio>\n",
              "              "
            ],
            "text/plain": [
              "<IPython.lib.display.Audio object>"
            ]
          },
          "metadata": {
            "tags": []
          },
          "execution_count": 59
        }
      ]
    }
  ]
}